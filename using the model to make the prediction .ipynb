{
 "cells": [
  {
   "cell_type": "code",
   "execution_count": 1,
   "id": "1a9b6abf",
   "metadata": {},
   "outputs": [
    {
     "name": "stderr",
     "output_type": "stream",
     "text": [
      "WARNING:absl:Compiled the loaded model, but the compiled metrics have yet to be built. `model.compile_metrics` will be empty until you train or evaluate the model.\n"
     ]
    }
   ],
   "source": [
    "from tensorflow.keras.models import load_model\n",
    "import numpy as np\n",
    "\n",
    "# Load the saved model\n",
    "model = load_model(\"adhd_eeg_model.h5\")\n"
   ]
  },
  {
   "cell_type": "code",
   "execution_count": 2,
   "id": "a9b6d443",
   "metadata": {},
   "outputs": [
    {
     "name": "stdout",
     "output_type": "stream",
     "text": [
      "Prepared new sample shape: (1, 1, 19)\n"
     ]
    }
   ],
   "source": [
    "import pandas as pd\n",
    "from sklearn.preprocessing import StandardScaler\n",
    "\n",
    "# Load the original dataset\n",
    "df = pd.read_csv(\"adhdata.csv\")\n",
    "\n",
    "# Encode class labels (optional if needed)\n",
    "df['Class'] = df['Class'].map({'Control': 0, 'ADHD': 1})\n",
    "\n",
    "# Drop rows with missing values if any\n",
    "df.dropna(inplace=True)\n",
    "\n",
    "# --- Prepare a sample for prediction ---\n",
    "# Pick a single random row as new sample\n",
    "new_df = df.sample(n=1, random_state=42)\n",
    "\n",
    "# Save the label (optional: to compare actual vs predicted later)\n",
    "true_label = new_df['Class'].values[0]\n",
    "\n",
    "# Drop 'Class' to simulate test scenario (model doesn't see the answer)\n",
    "new_df = new_df.drop(['Class'], axis=1)\n",
    "\n",
    "# --- Preprocess for prediction ---\n",
    "# Drop 'ID' if present\n",
    "if 'ID' in new_df.columns:\n",
    "    new_df = new_df.drop(['ID'], axis=1)\n",
    "\n",
    "# Use the **same scaler used during training**\n",
    "scaler = StandardScaler()\n",
    "X_train_sampled = df.drop(['Class', 'ID'], axis=1)\n",
    "scaler.fit(X_train_sampled)  # Fit scaler on training data\n",
    "\n",
    "# Scale the new sample\n",
    "new_data_scaled = scaler.transform(new_df)\n",
    "\n",
    "# Reshape for model input (Conv1D expects 3D input)\n",
    "new_data_reshaped = new_data_scaled.reshape((1, 1, new_data_scaled.shape[1]))\n",
    "\n",
    "print(\"Prepared new sample shape:\", new_data_reshaped.shape)"
   ]
  },
  {
   "cell_type": "code",
   "execution_count": 5,
   "id": "bbb2cfd7",
   "metadata": {},
   "outputs": [
    {
     "name": "stderr",
     "output_type": "stream",
     "text": [
      "C:\\Users\\deeks\\anaconda3\\envs\\eeg_env\\lib\\site-packages\\sklearn\\utils\\validation.py:2739: UserWarning: X does not have valid feature names, but StandardScaler was fitted with feature names\n",
      "  warnings.warn(\n"
     ]
    }
   ],
   "source": [
    "\n",
    "new_data = new_df.values\n",
    "\n",
    "# Use the same scaler as before (fit on training data)\n",
    "new_data_scaled = scaler.transform(new_data)  \n",
    "\n",
    "# Reshape for CNN+LSTM model input: (samples, time steps, features)\n",
    "new_data_reshaped = new_data_scaled.reshape((new_data_scaled.shape[0], 1, new_data_scaled.shape[1]))\n",
    "\n"
   ]
  },
  {
   "cell_type": "code",
   "execution_count": 6,
   "id": "a8fb22ee",
   "metadata": {},
   "outputs": [
    {
     "name": "stdout",
     "output_type": "stream",
     "text": [
      "\u001b[1m1/1\u001b[0m \u001b[32m━━━━━━━━━━━━━━━━━━━━\u001b[0m\u001b[37m\u001b[0m \u001b[1m0s\u001b[0m 401ms/step\n",
      "Prediction: Control\n"
     ]
    }
   ],
   "source": [
    "prediction = model.predict(new_data_reshaped)  # shape: (1, 2)\n",
    "\n",
    "# Get predicted class (0 = Control, 1 = ADHD)\n",
    "predicted_class = np.argmax(prediction, axis=1)[0]\n",
    "\n",
    "if predicted_class == 1:\n",
    "    print(\"Prediction: ADHD\")\n",
    "else:\n",
    "    print(\"Prediction: Control\")\n"
   ]
  },
  {
   "cell_type": "code",
   "execution_count": null,
   "id": "f7053bdb",
   "metadata": {},
   "outputs": [],
   "source": []
  }
 ],
 "metadata": {
  "kernelspec": {
   "display_name": "Python (eeg_env)",
   "language": "python",
   "name": "eeg_env"
  },
  "language_info": {
   "codemirror_mode": {
    "name": "ipython",
    "version": 3
   },
   "file_extension": ".py",
   "mimetype": "text/x-python",
   "name": "python",
   "nbconvert_exporter": "python",
   "pygments_lexer": "ipython3",
   "version": "3.9.21"
  }
 },
 "nbformat": 4,
 "nbformat_minor": 5
}
